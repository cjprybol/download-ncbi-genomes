{
 "cells": [
  {
   "cell_type": "code",
   "execution_count": 1,
   "metadata": {},
   "outputs": [
    {
     "name": "stdout",
     "output_type": "stream",
     "text": [
      "\u001b[32m\u001b[1m  Updating\u001b[22m\u001b[39m registry at `~/.julia/registries/General`\n",
      "\u001b[32m\u001b[1m  Updating\u001b[22m\u001b[39m git-repo `https://github.com/JuliaRegistries/General.git`\n",
      "\u001b[2K\u001b[?25h[1mFetching:\u001b[22m\u001b[39m [========================================>]  100.0 %.0 %39.9 %=================================>       ]  80.1 %\u001b[32m\u001b[1m Resolving\u001b[22m\u001b[39m package versions...\n",
      "\u001b[32m\u001b[1m Installed\u001b[22m\u001b[39m ProgressMeter ─ v1.2.0\n",
      "\u001b[32m\u001b[1m  Updating\u001b[22m\u001b[39m `~/.julia/environments/v1.0/Project.toml`\n",
      " \u001b[90m [92933f4c]\u001b[39m\u001b[92m + ProgressMeter v1.2.0\u001b[39m\n",
      "\u001b[32m\u001b[1m  Updating\u001b[22m\u001b[39m `~/.julia/environments/v1.0/Manifest.toml`\n",
      " \u001b[90m [92933f4c]\u001b[39m\u001b[92m + ProgressMeter v1.2.0\u001b[39m\n"
     ]
    },
    {
     "name": "stderr",
     "output_type": "stream",
     "text": [
      "┌ Info: Precompiling ProgressMeter [92933f4c-e287-5a05-a399-4b506db050ca]\n",
      "└ @ Base loading.jl:1192\n"
     ]
    }
   ],
   "source": [
    "# import Pkg\n",
    "# pkgs = [\n",
    "# \"ProgressMeter\"\n",
    "# ]\n",
    "# Pkg.add(pkgs)\n",
    "# for pkg in pkgs\n",
    "#     eval(Meta.parse(\"import $pkg\"))\n",
    "# end"
   ]
  },
  {
   "cell_type": "code",
   "execution_count": 12,
   "metadata": {},
   "outputs": [],
   "source": [
    "dir=\"$(homedir())/git/download-refseq-genomes\"\n",
    "cd(dir)\n",
    "refseq_genomes_dir=\"$(dir)/refseq-genomes\"\n",
    "if !isdir(refseq_genomes_dir)\n",
    "    mkdir(refseq_genomes_dir)\n",
    "end\n",
    "cd(refseq_genomes_dir)"
   ]
  },
  {
   "cell_type": "code",
   "execution_count": null,
   "metadata": {},
   "outputs": [],
   "source": [
    "run(`wget --mirror --quiet --no-directories https://ftp.ncbi.nlm.nih.gov/genomes/refseq/assembly_summary_refseq.txt`)\n",
    "f = \"$(refseq_genomes_dir)/file_list.txt\"\n",
    "open(f, \"w\") do io\n",
    "    for line in filter(x -> !occursin(r\"^#\", x), readlines(\"assembly_summary_refseq.txt\"))\n",
    "        path = split(line, '\\t')[20]\n",
    "        path = join([path, last(split(path, '/'))*\"_genomic.fna.gz\"], '/')\n",
    "        println(io, join(split(path, '/')[5:end], '/'))\n",
    "    end\n",
    "end\n",
    "@time run(`rsync --delete --archive --quiet --files-from=$(f) rsync://ftp.ncbi.nlm.nih.gov/genomes/ $(refseq_genomes_dir)`)"
   ]
  },
  {
   "cell_type": "markdown",
   "metadata": {},
   "source": [
    "```\n",
    "8 = 16s\n",
    "16 = 33s\n",
    "32 = 4s\n",
    "64 = 29s\n",
    "128 = 16s\n",
    "256 = 3s\n",
    "512 = 6.9s\n",
    "1024 = 14s\n",
    "2048 = 80s\n",
    "4096 = 3s\n",
    "8192 = 325\n",
    "16384 = 709\n",
    "32768 = 1007\n",
    "```"
   ]
  }
 ],
 "metadata": {
  "kernelspec": {
   "display_name": "Julia 1.0.5",
   "language": "julia",
   "name": "julia-1.0"
  },
  "language_info": {
   "file_extension": ".jl",
   "mimetype": "application/julia",
   "name": "julia",
   "version": "1.0.5"
  }
 },
 "nbformat": 4,
 "nbformat_minor": 4
}
