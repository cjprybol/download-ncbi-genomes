{
 "cells": [
  {
   "cell_type": "code",
   "execution_count": 1,
   "metadata": {},
   "outputs": [
    {
     "name": "stdout",
     "output_type": "stream",
     "text": [
      "\u001b[32m\u001b[1m  Updating\u001b[22m\u001b[39m registry at `~/.julia/registries/General`\n",
      "\u001b[32m\u001b[1m  Updating\u001b[22m\u001b[39m git-repo `https://github.com/JuliaRegistries/General.git`\n",
      "\u001b[2K\u001b[?25h[1mFetching:\u001b[22m\u001b[39m [========================================>]  100.0 %.0 %39.9 %=================================>       ]  80.1 %\u001b[32m\u001b[1m Resolving\u001b[22m\u001b[39m package versions...\n",
      "\u001b[32m\u001b[1m Installed\u001b[22m\u001b[39m ProgressMeter ─ v1.2.0\n",
      "\u001b[32m\u001b[1m  Updating\u001b[22m\u001b[39m `~/.julia/environments/v1.0/Project.toml`\n",
      " \u001b[90m [92933f4c]\u001b[39m\u001b[92m + ProgressMeter v1.2.0\u001b[39m\n",
      "\u001b[32m\u001b[1m  Updating\u001b[22m\u001b[39m `~/.julia/environments/v1.0/Manifest.toml`\n",
      " \u001b[90m [92933f4c]\u001b[39m\u001b[92m + ProgressMeter v1.2.0\u001b[39m\n"
     ]
    },
    {
     "name": "stderr",
     "output_type": "stream",
     "text": [
      "┌ Info: Precompiling ProgressMeter [92933f4c-e287-5a05-a399-4b506db050ca]\n",
      "└ @ Base loading.jl:1192\n"
     ]
    }
   ],
   "source": [
    "import Pkg\n",
    "pkgs = [\n",
    "\"ProgressMeter\"\n",
    "]\n",
    "Pkg.add(pkgs)\n",
    "for pkg in pkgs\n",
    "    eval(Meta.parse(\"import $pkg\"))\n",
    "end"
   ]
  },
  {
   "cell_type": "code",
   "execution_count": 2,
   "metadata": {},
   "outputs": [],
   "source": [
    "cd(\"refseq-genomes\")"
   ]
  },
  {
   "cell_type": "code",
   "execution_count": 3,
   "metadata": {},
   "outputs": [
    {
     "name": "stderr",
     "output_type": "stream",
     "text": [
      "--2020-03-11 18:34:43--  https://ftp.ncbi.nlm.nih.gov/genomes/refseq/assembly_summary_refseq.txt\n",
      "Resolving ftp.ncbi.nlm.nih.gov (ftp.ncbi.nlm.nih.gov)... 130.14.250.10, 2607:f220:41e:250::13\n",
      "Connecting to ftp.ncbi.nlm.nih.gov (ftp.ncbi.nlm.nih.gov)|130.14.250.10|:443... connected.\n",
      "HTTP request sent, awaiting response... 304 Not Modified\n",
      "File ‘assembly_summary_refseq.txt’ not modified on server. Omitting download.\n",
      "\n"
     ]
    },
    {
     "data": {
      "text/plain": [
       "Process(`\u001b[4mwget\u001b[24m \u001b[4m--mirror\u001b[24m \u001b[4m--no-directories\u001b[24m \u001b[4mhttps://ftp.ncbi.nlm.nih.gov/genomes/refseq/assembly_summary_refseq.txt\u001b[24m`, ProcessExited(0))"
      ]
     },
     "execution_count": 3,
     "metadata": {},
     "output_type": "execute_result"
    }
   ],
   "source": [
    "run(`wget --mirror --no-directories https://ftp.ncbi.nlm.nih.gov/genomes/refseq/assembly_summary_refseq.txt`)"
   ]
  },
  {
   "cell_type": "code",
   "execution_count": null,
   "metadata": {},
   "outputs": [
    {
     "name": "stderr",
     "output_type": "stream",
     "text": [
      "\u001b[32mProgress:   0%|▏                                        |  ETA: 22:23:19\u001b[39m16\u001b[39m"
     ]
    }
   ],
   "source": [
    "ProgressMeter.@showprogress for line in filter(x -> !occursin(r\"^#\", x), readlines(\"assembly_summary_refseq.txt\"))\n",
    "    path = split(line, '\\t')[20]\n",
    "    path = join([path, last(split(path, '/'))*\"_genomic.fna.gz\"], '/')\n",
    "    run(`wget --mirror --quiet --no-directories $(path)`)\n",
    "end"
   ]
  }
 ],
 "metadata": {
  "kernelspec": {
   "display_name": "Julia 1.0.5",
   "language": "julia",
   "name": "julia-1.0"
  },
  "language_info": {
   "file_extension": ".jl",
   "mimetype": "application/julia",
   "name": "julia",
   "version": "1.0.5"
  }
 },
 "nbformat": 4,
 "nbformat_minor": 4
}
